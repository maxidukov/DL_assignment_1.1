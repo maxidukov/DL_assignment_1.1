{
 "cells": [
  {
   "cell_type": "markdown",
   "id": "e0fc2b86",
   "metadata": {},
   "source": [
    "# Make necessary imports (purpose in comment)"
   ]
  },
  {
   "cell_type": "code",
   "execution_count": 28,
   "id": "e6ce196d",
   "metadata": {},
   "outputs": [],
   "source": [
    "import numpy as np\n",
    "import pandas as pd # DATA IMPORT, SPLIT DATA OBJ BY COLS INTO LABELS AND FEATURES\n",
    "from sklearn.model_selection import train_test_split #SPLIT DATA OBJ BY ROWS INTO TRAIN AND TEST\n",
    "\n",
    "import torch # PACK DATA INTO TENSORS, BUILD AND TRAIN NN MODEL\n",
    "from torch.utils.data import DataLoader,TensorDataset # PACK DATA INTO TENSORS"
   ]
  },
  {
   "cell_type": "code",
   "execution_count": 2,
   "id": "63c8a9f2",
   "metadata": {},
   "outputs": [],
   "source": [
    "datafile_path = \"*********/boston_housing.csv\""
   ]
  },
  {
   "cell_type": "code",
   "execution_count": 4,
   "id": "a9a5bcc5",
   "metadata": {},
   "outputs": [
    {
     "data": {
      "text/html": [
       "<div>\n",
       "<style scoped>\n",
       "    .dataframe tbody tr th:only-of-type {\n",
       "        vertical-align: middle;\n",
       "    }\n",
       "\n",
       "    .dataframe tbody tr th {\n",
       "        vertical-align: top;\n",
       "    }\n",
       "\n",
       "    .dataframe thead th {\n",
       "        text-align: right;\n",
       "    }\n",
       "</style>\n",
       "<table border=\"1\" class=\"dataframe\">\n",
       "  <thead>\n",
       "    <tr style=\"text-align: right;\">\n",
       "      <th></th>\n",
       "      <th>CRIM</th>\n",
       "      <th>ZN</th>\n",
       "      <th>INDUS</th>\n",
       "      <th>CHAS</th>\n",
       "      <th>NOX</th>\n",
       "      <th>RM</th>\n",
       "      <th>AGE</th>\n",
       "      <th>DIS</th>\n",
       "      <th>RAD</th>\n",
       "      <th>TAX</th>\n",
       "      <th>PTRATIO</th>\n",
       "      <th>B</th>\n",
       "      <th>LSTAT</th>\n",
       "      <th>MEDV</th>\n",
       "    </tr>\n",
       "  </thead>\n",
       "  <tbody>\n",
       "    <tr>\n",
       "      <th>0</th>\n",
       "      <td>0.00632</td>\n",
       "      <td>18.0</td>\n",
       "      <td>2.31</td>\n",
       "      <td>0</td>\n",
       "      <td>0.538</td>\n",
       "      <td>6.575</td>\n",
       "      <td>65.2</td>\n",
       "      <td>4.0900</td>\n",
       "      <td>1</td>\n",
       "      <td>296.0</td>\n",
       "      <td>15.3</td>\n",
       "      <td>396.90</td>\n",
       "      <td>4.98</td>\n",
       "      <td>24.0</td>\n",
       "    </tr>\n",
       "    <tr>\n",
       "      <th>1</th>\n",
       "      <td>0.02731</td>\n",
       "      <td>0.0</td>\n",
       "      <td>7.07</td>\n",
       "      <td>0</td>\n",
       "      <td>0.469</td>\n",
       "      <td>6.421</td>\n",
       "      <td>78.9</td>\n",
       "      <td>4.9671</td>\n",
       "      <td>2</td>\n",
       "      <td>242.0</td>\n",
       "      <td>17.8</td>\n",
       "      <td>396.90</td>\n",
       "      <td>9.14</td>\n",
       "      <td>21.6</td>\n",
       "    </tr>\n",
       "    <tr>\n",
       "      <th>2</th>\n",
       "      <td>0.02729</td>\n",
       "      <td>0.0</td>\n",
       "      <td>7.07</td>\n",
       "      <td>0</td>\n",
       "      <td>0.469</td>\n",
       "      <td>7.185</td>\n",
       "      <td>61.1</td>\n",
       "      <td>4.9671</td>\n",
       "      <td>2</td>\n",
       "      <td>242.0</td>\n",
       "      <td>17.8</td>\n",
       "      <td>392.83</td>\n",
       "      <td>4.03</td>\n",
       "      <td>34.7</td>\n",
       "    </tr>\n",
       "    <tr>\n",
       "      <th>3</th>\n",
       "      <td>0.03237</td>\n",
       "      <td>0.0</td>\n",
       "      <td>2.18</td>\n",
       "      <td>0</td>\n",
       "      <td>0.458</td>\n",
       "      <td>6.998</td>\n",
       "      <td>45.8</td>\n",
       "      <td>6.0622</td>\n",
       "      <td>3</td>\n",
       "      <td>222.0</td>\n",
       "      <td>18.7</td>\n",
       "      <td>394.63</td>\n",
       "      <td>2.94</td>\n",
       "      <td>33.4</td>\n",
       "    </tr>\n",
       "    <tr>\n",
       "      <th>4</th>\n",
       "      <td>0.06905</td>\n",
       "      <td>0.0</td>\n",
       "      <td>2.18</td>\n",
       "      <td>0</td>\n",
       "      <td>0.458</td>\n",
       "      <td>7.147</td>\n",
       "      <td>54.2</td>\n",
       "      <td>6.0622</td>\n",
       "      <td>3</td>\n",
       "      <td>222.0</td>\n",
       "      <td>18.7</td>\n",
       "      <td>396.90</td>\n",
       "      <td>5.33</td>\n",
       "      <td>36.2</td>\n",
       "    </tr>\n",
       "  </tbody>\n",
       "</table>\n",
       "</div>"
      ],
      "text/plain": [
       "      CRIM    ZN  INDUS  CHAS    NOX     RM   AGE     DIS  RAD    TAX  \\\n",
       "0  0.00632  18.0   2.31     0  0.538  6.575  65.2  4.0900    1  296.0   \n",
       "1  0.02731   0.0   7.07     0  0.469  6.421  78.9  4.9671    2  242.0   \n",
       "2  0.02729   0.0   7.07     0  0.469  7.185  61.1  4.9671    2  242.0   \n",
       "3  0.03237   0.0   2.18     0  0.458  6.998  45.8  6.0622    3  222.0   \n",
       "4  0.06905   0.0   2.18     0  0.458  7.147  54.2  6.0622    3  222.0   \n",
       "\n",
       "   PTRATIO       B  LSTAT  MEDV  \n",
       "0     15.3  396.90   4.98  24.0  \n",
       "1     17.8  396.90   9.14  21.6  \n",
       "2     17.8  392.83   4.03  34.7  \n",
       "3     18.7  394.63   2.94  33.4  \n",
       "4     18.7  396.90   5.33  36.2  "
      ]
     },
     "execution_count": 4,
     "metadata": {},
     "output_type": "execute_result"
    }
   ],
   "source": [
    "headers = ['CRIM', 'ZN', 'INDUS', 'CHAS', 'NOX', 'RM', 'AGE',\n",
    "           'DIS', 'RAD', 'TAX', 'PTRATIO', 'B', 'LSTAT', 'MEDV']\n",
    "df=pd.read_csv(datafile_path,sep='\\s+',names=headers)\n",
    "df.head()"
   ]
  },
  {
   "cell_type": "markdown",
   "id": "d33129e3",
   "metadata": {},
   "source": [
    "# Get df info: shape, col names, col types, isnull's"
   ]
  },
  {
   "cell_type": "code",
   "execution_count": 7,
   "id": "f43c7781",
   "metadata": {
    "scrolled": true
   },
   "outputs": [
    {
     "name": "stdout",
     "output_type": "stream",
     "text": [
      "<class 'pandas.core.frame.DataFrame'>\n",
      "RangeIndex: 506 entries, 0 to 505\n",
      "Data columns (total 14 columns):\n",
      " #   Column   Non-Null Count  Dtype  \n",
      "---  ------   --------------  -----  \n",
      " 0   CRIM     506 non-null    float64\n",
      " 1   ZN       506 non-null    float64\n",
      " 2   INDUS    506 non-null    float64\n",
      " 3   CHAS     506 non-null    int64  \n",
      " 4   NOX      506 non-null    float64\n",
      " 5   RM       506 non-null    float64\n",
      " 6   AGE      506 non-null    float64\n",
      " 7   DIS      506 non-null    float64\n",
      " 8   RAD      506 non-null    int64  \n",
      " 9   TAX      506 non-null    float64\n",
      " 10  PTRATIO  506 non-null    float64\n",
      " 11  B        506 non-null    float64\n",
      " 12  LSTAT    506 non-null    float64\n",
      " 13  MEDV     506 non-null    float64\n",
      "dtypes: float64(12), int64(2)\n",
      "memory usage: 55.5 KB\n"
     ]
    }
   ],
   "source": [
    "df.info()"
   ]
  },
  {
   "cell_type": "markdown",
   "id": "c182cfa5",
   "metadata": {},
   "source": [
    "# Split 'vertically' into labels and features"
   ]
  },
  {
   "cell_type": "code",
   "execution_count": 6,
   "id": "a2d3c885",
   "metadata": {},
   "outputs": [],
   "source": [
    "y=df.iloc[:,-1] #LABELS, LAST COLUMN\n",
    "X= df.iloc[:,:len(df.columns)-1] #FEATURES, ALL COLS BUT LAST"
   ]
  },
  {
   "cell_type": "markdown",
   "id": "3f541cb9",
   "metadata": {},
   "source": [
    "# Split 'horizontally' into train and test subsets"
   ]
  },
  {
   "cell_type": "markdown",
   "id": "4396b47d",
   "metadata": {},
   "source": [
    "## Split"
   ]
  },
  {
   "cell_type": "code",
   "execution_count": 168,
   "id": "471c9df1",
   "metadata": {},
   "outputs": [
    {
     "data": {
      "text/plain": [
       "((404, 13),\n",
       "          CRIM    ZN  INDUS  CHAS    NOX     RM    AGE     DIS  RAD    TAX  \\\n",
       " 50    0.08873  21.0   5.64     0  0.439  5.963   45.7  6.8147    4  243.0   \n",
       " 367  13.52220   0.0  18.10     0  0.631  3.863  100.0  1.5106   24  666.0   \n",
       " 34    1.61282   0.0   8.14     0  0.538  6.096   96.9  3.7598    4  307.0   \n",
       " 78    0.05646   0.0  12.83     0  0.437  6.232   53.7  5.0141    5  398.0   \n",
       " 172   0.13914   0.0   4.05     0  0.510  5.572   88.5  2.5961    5  296.0   \n",
       " \n",
       "      PTRATIO       B  LSTAT  \n",
       " 50      16.8  395.56  13.45  \n",
       " 367     20.2  131.42  13.33  \n",
       " 34      21.0  248.31  20.34  \n",
       " 78      18.7  386.40  12.34  \n",
       " 172     16.6  396.90  14.69  )"
      ]
     },
     "execution_count": 168,
     "metadata": {},
     "output_type": "execute_result"
    }
   ],
   "source": [
    "X_train,X_test,y_train,y_test= train_test_split(X,y,test_size=0.2,random_state=10)\n",
    "X_train.shape, X_train.head()"
   ]
  },
  {
   "cell_type": "markdown",
   "id": "69307076",
   "metadata": {},
   "source": [
    "## Check split"
   ]
  },
  {
   "cell_type": "code",
   "execution_count": 169,
   "id": "4a59fc59",
   "metadata": {},
   "outputs": [
    {
     "data": {
      "text/plain": [
       "((404,),\n",
       " 50     19.7\n",
       " 367    23.1\n",
       " 34     13.5\n",
       " 78     21.2\n",
       " 172    23.1\n",
       " Name: MEDV, dtype: float64)"
      ]
     },
     "execution_count": 169,
     "metadata": {},
     "output_type": "execute_result"
    }
   ],
   "source": [
    "y_train.shape, y_train.head()"
   ]
  },
  {
   "cell_type": "code",
   "execution_count": 170,
   "id": "1ee2ad8d",
   "metadata": {},
   "outputs": [
    {
     "data": {
      "text/plain": [
       "((102, 13), (102,))"
      ]
     },
     "execution_count": 170,
     "metadata": {},
     "output_type": "execute_result"
    }
   ],
   "source": [
    "X_test.shape, y_test.shape,"
   ]
  },
  {
   "cell_type": "markdown",
   "id": "223dd721",
   "metadata": {},
   "source": [
    "# Fit & transform: fit scaler on train set, then transform both train & test sets"
   ]
  },
  {
   "cell_type": "code",
   "execution_count": 200,
   "id": "3abcc371",
   "metadata": {},
   "outputs": [],
   "source": [
    "from sklearn.preprocessing import StandardScaler\n",
    "ss = StandardScaler()\n",
    "X_train = ss.fit_transform(X_train)\n",
    "X_test = ss.transform(X_test)"
   ]
  },
  {
   "cell_type": "markdown",
   "id": "21436a0f",
   "metadata": {},
   "source": [
    "# Pack train and test into pytorch tensors"
   ]
  },
  {
   "cell_type": "code",
   "execution_count": 203,
   "id": "5397fc13",
   "metadata": {},
   "outputs": [
    {
     "name": "stdout",
     "output_type": "stream",
     "text": [
      "X_train_tsr: torch.Size([404, 13])\n",
      "X_test_tsr: torch.Size([102, 13])\n",
      "y_train_tsr: torch.Size([404])\n",
      "y_test_tsr: torch.Size([102])\n"
     ]
    }
   ],
   "source": [
    "# X_train_tsr = torch.FloatTensor(X_train.values)\n",
    "X_train_tsr = torch.FloatTensor(X_train)\n",
    "print(\"X_train_tsr:\", X_train_tsr.shape)\n",
    "# X_test_tsr = torch.FloatTensor(X_test.values)\n",
    "X_test_tsr = torch.FloatTensor(X_test)\n",
    "print(\"X_test_tsr:\",X_test_tsr.shape)\n",
    "y_train_tsr = torch.FloatTensor(y_train.to_numpy())\n",
    "print(\"y_train_tsr:\",y_train_tsr.shape)\n",
    "y_test_tsr = torch.LongTensor(y_test.to_numpy())\n",
    "print(\"y_test_tsr:\",y_test_tsr.shape)"
   ]
  },
  {
   "cell_type": "code",
   "execution_count": 204,
   "id": "5177d2bb",
   "metadata": {},
   "outputs": [],
   "source": [
    "batch_size = 10\n",
    "dataset_train = TensorDataset(X_train_tsr,y_train_tsr)\n",
    "data_iter = DataLoader(dataset_train,batch_size, shuffle=True)"
   ]
  },
  {
   "cell_type": "markdown",
   "id": "fb84d639",
   "metadata": {},
   "source": [
    "# Build model, 1 hidden layer"
   ]
  },
  {
   "cell_type": "code",
   "execution_count": 212,
   "id": "dbb56ecc",
   "metadata": {},
   "outputs": [
    {
     "data": {
      "text/plain": [
       "Sequential(\n",
       "  (0): Linear(in_features=13, out_features=1, bias=True)\n",
       ")"
      ]
     },
     "execution_count": 212,
     "metadata": {},
     "output_type": "execute_result"
    }
   ],
   "source": [
    "model = torch.nn.Sequential(torch.nn.Linear(X.shape[1],1))\n",
    "model"
   ]
  },
  {
   "cell_type": "code",
   "execution_count": 213,
   "id": "df046862",
   "metadata": {},
   "outputs": [],
   "source": [
    "loss = torch.nn.MSELoss(reduction='mean')"
   ]
  },
  {
   "cell_type": "code",
   "execution_count": 214,
   "id": "5cd4f4a9",
   "metadata": {},
   "outputs": [],
   "source": [
    "lr = 0.001"
   ]
  },
  {
   "cell_type": "code",
   "execution_count": 215,
   "id": "032a6c32",
   "metadata": {},
   "outputs": [],
   "source": [
    "trainer = torch.optim.SGD(model.parameters(), lr = lr)\n",
    "# trainer = torch.optim.Adam(model.parameters(),lr = lr)"
   ]
  },
  {
   "cell_type": "code",
   "execution_count": 216,
   "id": "1df976ba",
   "metadata": {},
   "outputs": [],
   "source": [
    "dummy = torch.randn((100,13))"
   ]
  },
  {
   "cell_type": "code",
   "execution_count": 217,
   "id": "9538dc6b",
   "metadata": {},
   "outputs": [
    {
     "data": {
      "text/plain": [
       "torch.Size([100])"
      ]
     },
     "execution_count": 217,
     "metadata": {},
     "output_type": "execute_result"
    }
   ],
   "source": [
    "model(dummy).squeeze().shape"
   ]
  },
  {
   "cell_type": "code",
   "execution_count": 222,
   "id": "1ca6a6da",
   "metadata": {},
   "outputs": [
    {
     "data": {
      "text/plain": [
       "torch.Size([404])"
      ]
     },
     "execution_count": 222,
     "metadata": {},
     "output_type": "execute_result"
    }
   ],
   "source": [
    "y_train_tsr.shape"
   ]
  },
  {
   "cell_type": "code",
   "execution_count": 220,
   "id": "eeaf46ce",
   "metadata": {},
   "outputs": [
    {
     "name": "stdout",
     "output_type": "stream",
     "text": [
      "epoch 5, loss in training 116.013863, loss in test 147.636658\n",
      "epoch 10, loss in training 62.933708, loss in test 85.167480\n",
      "epoch 15, loss in training 39.630531, loss in test 57.361946\n",
      "epoch 20, loss in training 29.264416, loss in test 44.884914\n",
      "epoch 25, loss in training 24.589104, loss in test 39.294277\n",
      "epoch 30, loss in training 22.409182, loss in test 36.552082\n",
      "epoch 35, loss in training 21.360434, loss in test 35.245716\n",
      "epoch 40, loss in training 20.829239, loss in test 34.620380\n",
      "epoch 45, loss in training 20.525345, loss in test 34.308525\n",
      "epoch 50, loss in training 20.334917, loss in test 34.116718\n",
      "epoch 55, loss in training 20.205219, loss in test 34.113537\n",
      "epoch 60, loss in training 20.104776, loss in test 34.043327\n",
      "epoch 65, loss in training 20.019791, loss in test 34.033440\n",
      "epoch 70, loss in training 19.948524, loss in test 34.079418\n",
      "epoch 75, loss in training 19.881357, loss in test 34.038944\n",
      "epoch 80, loss in training 19.821751, loss in test 34.021511\n",
      "epoch 85, loss in training 19.776522, loss in test 34.043274\n",
      "epoch 90, loss in training 19.732880, loss in test 34.066650\n",
      "epoch 95, loss in training 19.692616, loss in test 34.075169\n",
      "epoch 100, loss in training 19.656630, loss in test 34.107792\n",
      "epoch 105, loss in training 19.622240, loss in test 34.098045\n",
      "epoch 110, loss in training 19.594780, loss in test 34.053162\n",
      "epoch 115, loss in training 19.567139, loss in test 34.048058\n",
      "epoch 120, loss in training 19.543175, loss in test 34.034878\n",
      "epoch 125, loss in training 19.520691, loss in test 34.070324\n",
      "epoch 130, loss in training 19.497362, loss in test 34.133686\n",
      "epoch 135, loss in training 19.479858, loss in test 34.137249\n",
      "epoch 140, loss in training 19.462921, loss in test 34.122486\n",
      "epoch 145, loss in training 19.447235, loss in test 34.116215\n",
      "epoch 150, loss in training 19.432085, loss in test 34.131939\n",
      "epoch 155, loss in training 19.418472, loss in test 34.149246\n",
      "epoch 160, loss in training 19.406281, loss in test 34.142265\n",
      "epoch 165, loss in training 19.394667, loss in test 34.147327\n",
      "epoch 170, loss in training 19.384306, loss in test 34.144608\n",
      "epoch 175, loss in training 19.374563, loss in test 34.204403\n",
      "epoch 180, loss in training 19.366213, loss in test 34.169102\n",
      "epoch 185, loss in training 19.357971, loss in test 34.156178\n",
      "epoch 190, loss in training 19.349581, loss in test 34.140648\n",
      "epoch 195, loss in training 19.348164, loss in test 34.100750\n",
      "epoch 200, loss in training 19.338467, loss in test 34.191780\n"
     ]
    }
   ],
   "source": [
    "num_epochs = 200\n",
    "for epoch in range(num_epochs):\n",
    "    for X_batch,y_batch in data_iter:\n",
    "        trainer.zero_grad()\n",
    "        l = loss(torch.squeeze(model(X_batch)),y_batch)\n",
    "        l.backward()\n",
    "        trainer.step()\n",
    "#     trainer.zero_grad()\n",
    "    l_train = loss(model(X_train_tsr).squeeze(),y_train_tsr)\n",
    "    l_test = loss(model(X_test_tsr).squeeze(),y_test_tsr)\n",
    "#     l.backward()\n",
    "#     trainer.step()\n",
    "    if (epoch+1) % 5 == 0:\n",
    "        print('epoch %d, loss in training %f, loss in test %f' % (epoch+1, l_train.item(), l_test.item()))\n",
    "#         break"
   ]
  },
  {
   "cell_type": "code",
   "execution_count": null,
   "id": "3f55f621",
   "metadata": {},
   "outputs": [],
   "source": []
  }
 ],
 "metadata": {
  "kernelspec": {
   "display_name": "Python 3 (ipykernel)",
   "language": "python",
   "name": "python3"
  },
  "language_info": {
   "codemirror_mode": {
    "name": "ipython",
    "version": 3
   },
   "file_extension": ".py",
   "mimetype": "text/x-python",
   "name": "python",
   "nbconvert_exporter": "python",
   "pygments_lexer": "ipython3",
   "version": "3.10.12"
  }
 },
 "nbformat": 4,
 "nbformat_minor": 5
}
